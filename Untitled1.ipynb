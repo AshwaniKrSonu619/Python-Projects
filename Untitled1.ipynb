{
  "nbformat": 4,
  "nbformat_minor": 0,
  "metadata": {
    "colab": {
      "name": "Untitled1.ipynb",
      "provenance": [],
      "authorship_tag": "ABX9TyN2oHBmadzMkt3Rj24yA9BR",
      "include_colab_link": true
    },
    "kernelspec": {
      "display_name": "Python 3",
      "name": "python3"
    },
    "language_info": {
      "name": "python"
    }
  },
  "cells": [
    {
      "cell_type": "markdown",
      "metadata": {
        "id": "view-in-github",
        "colab_type": "text"
      },
      "source": [
        "<a href=\"https://colab.research.google.com/github/OpAshwani/Python-Projects/blob/main/Untitled1.ipynb\" target=\"_parent\"><img src=\"https://colab.research.google.com/assets/colab-badge.svg\" alt=\"Open In Colab\"/></a>"
      ]
    },
    {
      "cell_type": "code",
      "metadata": {
        "colab": {
          "base_uri": "https://localhost:8080/"
        },
        "id": "f8DHyXsHgnKr",
        "outputId": "85884e86-7d25-4e1c-d1e1-cfd7a012b0dc"
      },
      "source": [
        "\n",
        "import time\n",
        "import random\n",
        "\n",
        "name = input(\"Hello, what is your name? \")\n",
        "\n",
        "time.sleep(2)\n",
        "print(\"Hello \" + name)\n",
        "\n",
        "feeling = input(\"How are you today? \")\n",
        "\n",
        "time.sleep(2)\n",
        "if \"good\" in feeling:\n",
        "    print(\"I'm feeling good too!\")\n",
        "else:\n",
        "    print(\"I'm sorry to hear that!\")\n",
        "\n",
        "time.sleep(2)\n",
        "favcolour = input(\"What is your favourite colour? \")\n",
        "\n",
        "colours = [\"Red\",\"Green\",\"Blue\"]\n",
        "\n",
        "time.sleep(2)\n",
        "print(\"My favourite colour is \" + random.choice(colours))"
      ],
      "execution_count": 2,
      "outputs": [
        {
          "output_type": "stream",
          "name": "stdout",
          "text": [
            "Hello, what is your name? sonu\n",
            "Hello sonu\n",
            "How are you today? feeling bad\n",
            "I'm sorry to hear that!\n",
            "What is your favourite colour? red\n",
            "My favourite colour is Green\n"
          ]
        }
      ]
    }
  ]
}