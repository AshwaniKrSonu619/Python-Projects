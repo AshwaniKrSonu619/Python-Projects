{
  "nbformat": 4,
  "nbformat_minor": 0,
  "metadata": {
    "colab": {
      "name": "No is palindrome.ipynb",
      "provenance": [],
      "authorship_tag": "ABX9TyMQTsPWbkWPPP2PQavpDYTQ",
      "include_colab_link": true
    },
    "kernelspec": {
      "name": "python3",
      "display_name": "Python 3"
    },
    "language_info": {
      "name": "python"
    }
  },
  "cells": [
    {
      "cell_type": "markdown",
      "metadata": {
        "id": "view-in-github",
        "colab_type": "text"
      },
      "source": [
        "<a href=\"https://colab.research.google.com/github/AshwaniKrSonu619/Python-Projects/blob/main/No_is_palindrome.ipynb\" target=\"_parent\"><img src=\"https://colab.research.google.com/assets/colab-badge.svg\" alt=\"Open In Colab\"/></a>"
      ]
    },
    {
      "cell_type": "code",
      "execution_count": 4,
      "metadata": {
        "colab": {
          "base_uri": "https://localhost:8080/"
        },
        "id": "cUvyJHO0z0Vu",
        "outputId": "afdc70d9-ab0c-46e7-b8a3-1322867549af"
      },
      "outputs": [
        {
          "output_type": "stream",
          "name": "stdout",
          "text": [
            "Enter Number:121\n",
            "121 is palindrome number:\n"
          ]
        }
      ],
      "source": [
        "# Write  the program  to check  the number  is palindrome  or not.\n",
        "\n",
        "\n",
        "i =int(input(\"Enter Number:\"))\n",
        "rev = 0\n",
        "x = i\n",
        "while(i>0):\n",
        "    rev = (rev*10)+i%10\n",
        "    i = i//10\n",
        "if(x==rev):\n",
        "    print(x,\"is palindrome number:\")\n",
        "else:\n",
        "    print(x,\"is not palindrome number:\")"
      ]
    }
  ]
}